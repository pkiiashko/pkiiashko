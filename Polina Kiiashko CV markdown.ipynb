{
  "nbformat": 4,
  "nbformat_minor": 0,
  "metadata": {
    "colab": {
      "provenance": []
    },
    "kernelspec": {
      "name": "python3",
      "display_name": "Python 3"
    },
    "language_info": {
      "name": "python"
    }
  },
  "cells": [
    {
      "cell_type": "markdown",
      "source": [
        "## Кияшко Полина\n",
        " [telegram](https://t.me/Shinshiiila) | [github](https://github.com/pkiiashko) | polina.kiiashko@mail.ru | +7 (916) 422-69-83 | Москва\n",
        "### <font color='grey'> Образование\n",
        " - **НИУ ВШЭ'26**, Факультет компьютерных наук, Финансовые технологии и анализ данных (магистратура);\n",
        " - **МГУ'23**, Экономический факультет, Направление Финансы и кредит (магистратура);\n",
        " - **МГИМО'21**, Факультет международных экономических отношений, Мировая экономика (бакалавриат).\n",
        "\n",
        "### <font color='grey'> Дополнительное образование\n",
        " - **Yandex Practicum'24**, Специалист по Data Science, [учебные проекты GitHub](https://github.com/pkiiashko/yandex-practicum);\n",
        " - **[Бауманский учебный центр Специалист](https://www.specialist.ru/)'23**, Excel VBA (4 и 5 уровень).\n",
        "\n",
        "### <font color='grey'> Навыки\n",
        "</a> <a href=\"https://www.postgresql.org\" target=\"_blank\" rel=\"noreferrer\"> <img src=\"https://raw.githubusercontent.com/devicons/devicon/master/icons/postgresql/postgresql-original-wordmark.svg\" alt=\"postgresql\" width=\"40\" height=\"40\"/> </a> <a href=\"https://www.python.org\" target=\"_blank\" rel=\"noreferrer\"> <img src=\"https://raw.githubusercontent.com/devicons/devicon/master/icons/python/python-original.svg\" alt=\"python\" width=\"40\" height=\"40\"/> </a> <a href=\"https://scikit-learn.org/\" target=\"_blank\" rel=\"noreferrer\"> <img src=\"https://upload.wikimedia.org/wikipedia/commons/0/05/Scikit_learn_logo_small.svg\" alt=\"scikit_learn\" width=\"40\" height=\"40\"/> </a> <a href=\"https://seaborn.pydata.org/\" target=\"_blank\" rel=\"noreferrer\"> <img src=\"https://seaborn.pydata.org/_images/logo-mark-lightbg.svg\" alt=\"seaborn\" width=\"40\" height=\"40\"/> </a> <a href=\"https://pandas.pydata.org/\" target=\"_blank\" rel=\"noreferrer\"> <img src=\"https://raw.githubusercontent.com/devicons/devicon/2ae2a900d2f041da66e950e4d48052658d850630/icons/pandas/pandas-original.svg\" alt=\"pandas\" width=\"40\" height=\"40\"/>\n",
        "</a> <a href=\"https://numpy.org/doc/stable/index.html#\" target=\"_blank\" rel=\"noreferrer\"> <img src=\"https://upload.wikimedia.org/wikipedia/commons/thumb/3/31/NumPy_logo_2020.svg/768px-NumPy_logo_2020.svg.png\" alt=\"ms excel\" width=\"80\" height=\"40\"/>\n",
        "</a> <a href=\"https://matplotlib.org/\" target=\"_blank\" rel=\"noreferrer\"> <img src=\"https://upload.wikimedia.org/wikipedia/commons/thumb/8/84/Matplotlib_icon.svg/270px-Matplotlib_icon.svg.png?20150311090915\" alt=\"ms excel\" width=\"40\" height=\"40\"/>\n",
        "</a> <a href=\"https://playground.powerbi.com/ru-RU/\" target=\"_blank\" rel=\"noreferrer\"> <img src=\"https://upload.wikimedia.org/wikipedia/commons/thumb/c/cf/New_Power_BI_Logo.svg/900px-New_Power_BI_Logo.svg.png?20210102182532\" alt=\"power-bi\" width=\"40\" height=\"40\"/>\n",
        "</a> <a href=\"https://online-excel.ru/\" target=\"_blank\" rel=\"noreferrer\"> <img src=\"https://upload.wikimedia.org/wikipedia/commons/thumb/7/73/Microsoft_Excel_2013-2019_logo.svg/881px-Microsoft_Excel_2013-2019_logo.svg.png\" alt=\"ms excel\" width=\"40\" height=\"40\"/> </a> </p>\n",
        "Английский — C1, Французский — B2\n",
        "\n",
        "### <font color='grey'> Опыт работы\n",
        "\n",
        "</a> <a href=\"https://vk.company/ru/\" target=\"_blank\" rel=\"noreferrer\"> <img src=\"https://upload.wikimedia.org/wikipedia/commons/thumb/f/f3/VK_Compact_Logo_%282021-present%29.svg/1024px-VK_Compact_Logo_%282021-present%29.svg.png\" alt=\"vk\" width=\"25\"\n",
        "height=\"25\"/> </a> **Младший финансовый менеджер, 2023-2024**\n",
        "- Автоматизировала сверку ВГО между 40+ компаниями с использованием инструментов VBA, что сократило время обработки с 2 часов до 15 минут в день;\n",
        "- Визуализировала финансовую консолидацию Группы VK с помощью Power BI;\n",
        "- Разработала и внедрила трансформацию МСФО для новой иностранной компании Группы;\n",
        "- Рассчитывала корректировки МСФО и раскрытия для годовой финансовой отчетности VK;\n",
        "\n",
        "</a> <a href=\"https://delret.ru/\" target=\"_blank\" rel=\"noreferrer\"> <img src=\"https://upload.wikimedia.org/wikipedia/commons/thumb/5/56/Deloitte.svg/1200px-Deloitte.svg.png?20161018020339\" alt=\"deloitte\" width=\"80\" height=\"18\"/> </a> **Ассистент аудитора, 2021-2023**\n",
        "- Подготавливала рабочие документы для анализа данных, оценки рисков, и анализа рынка, анализа структуры и динамики статей финансовой отчетности;\n",
        "- Проводила аудит компании, которая выходила на IPO (общая оценка >$1 млрд) на Нью-Йоркскую фондовую биржу и Московскую биржу;\n",
        "- Руководила командой из трех человек в рамках аудита крупнейшего классифайда недвижимости в России;\n",
        "- Проводила тестирование и анализ биллинговой выручки с использованием инструментов Power BI и Excel.\n",
        "\n",
        "### <font color='grey'> Хобби\n",
        "\n",
        "Йога, путешествия, научная фантастика"
      ],
      "metadata": {
        "id": "pUCQ7TapsZ9P"
      }
    }
  ]
}